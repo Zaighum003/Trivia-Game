{
 "cells": [
  {
   "cell_type": "code",
   "execution_count": null,
   "id": "initial_id",
   "metadata": {
    "collapsed": true
   },
   "outputs": [],
   "source": [
    ""
   ]
  },
  {
   "metadata": {
    "ExecuteTime": {
     "end_time": "2025-02-10T01:15:14.562401Z",
     "start_time": "2025-02-10T01:15:14.558400Z"
    }
   },
   "cell_type": "code",
   "source": [
    "#trivia game\n",
    "import pandas as pd\n"
   ],
   "id": "888d5281eee4265e",
   "outputs": [],
   "execution_count": 10
  },
  {
   "metadata": {
    "ExecuteTime": {
     "end_time": "2025-02-10T01:15:15.352070Z",
     "start_time": "2025-02-10T01:15:15.348364Z"
    }
   },
   "cell_type": "code",
   "source": [
    "\n",
    "def show_questions(questions):\n",
    "    for i,question in enumerate(questions):\n",
    "        print(f\"{i+1}.{question}\\n\")\n"
   ],
   "id": "c108f2c8cff165d6",
   "outputs": [],
   "execution_count": 11
  },
  {
   "metadata": {
    "ExecuteTime": {
     "end_time": "2025-02-10T01:15:16.104274Z",
     "start_time": "2025-02-10T01:15:16.099964Z"
    }
   },
   "cell_type": "code",
   "source": [
    "def load_questions(filename, start=0, end=None):\n",
    "    questions = []\n",
    "    answers = []\n",
    "    points = []\n",
    "\n",
    "    with open(filename, \"r\") as f:\n",
    "        lines = f.readlines()  # Read all lines at once\n",
    "        selected_lines = lines[start:end]  # Apply range slicing\n",
    "\n",
    "        for line in selected_lines:\n",
    "            parts = line.strip().split(\"|\")  # Split once\n",
    "            if len(parts) == 3:  # Ensure valid format\n",
    "                questions.append(parts[0])\n",
    "                answers.append(parts[1])\n",
    "                points.append(int(parts[2]))  # Convert points to int safely\n",
    "\n",
    "    return questions, answers,points"
   ],
   "id": "d62e9a3e002cd276",
   "outputs": [],
   "execution_count": 12
  },
  {
   "metadata": {
    "ExecuteTime": {
     "end_time": "2025-02-10T01:15:16.829329Z",
     "start_time": "2025-02-10T01:15:16.825766Z"
    }
   },
   "cell_type": "code",
   "source": [
    "\n",
    "def Add_question(filename):\n",
    "    question=input(\"Enter question: \")\n",
    "    answer=input(\"Enter answer: \")\n",
    "    point=int(input(\"Enter points: \"))\n",
    "    with open(filename, \"a\")  as f:\n",
    "        f.write(f\"{question}|{answer}|{point}\\n\")\n"
   ],
   "id": "d9a473ea20b3705",
   "outputs": [],
   "execution_count": 13
  },
  {
   "metadata": {
    "ExecuteTime": {
     "end_time": "2025-02-10T01:15:17.619492Z",
     "start_time": "2025-02-10T01:15:17.616381Z"
    }
   },
   "cell_type": "code",
   "source": [
    "\n",
    "def show_score(filename):\n",
    "    with open(filename, \"r\") as f:\n",
    "        for line in f:\n",
    "            player=line.split(\"|\")[0]\n",
    "            score=int(line.split(\"|\")[1])\n",
    "            print(f\"{player} - {score}\")\n"
   ],
   "id": "25043777de6aaa37",
   "outputs": [],
   "execution_count": 14
  },
  {
   "metadata": {
    "ExecuteTime": {
     "end_time": "2025-02-10T01:15:18.486602Z",
     "start_time": "2025-02-10T01:15:18.482970Z"
    }
   },
   "cell_type": "code",
   "source": [
    "\n",
    "\n",
    "def menu():\n",
    "    choice=int(input(\"1.Load Questions\\n\"\n",
    "                     \"2.Add Question\\n\"\n",
    "                     \"3.Show Questions\\n\"\n",
    "                     \"4.Play Game\\n\"\n",
    "                     \"5.Show Scoreboard\\n\"\n",
    "                     \"6.Exit\\n\"\n",
    "                      ))\n",
    "    return choice"
   ],
   "id": "52ea0c28702febf",
   "outputs": [],
   "execution_count": 15
  },
  {
   "metadata": {
    "ExecuteTime": {
     "end_time": "2025-02-10T01:15:19.914154Z",
     "start_time": "2025-02-10T01:15:19.908737Z"
    }
   },
   "cell_type": "code",
   "source": [
    "\n",
    "def trivia_game(player_name,player_records):\n",
    "    score=0\n",
    "    if player_name in player_records:\n",
    "        print(f\"Welcome back, {player_name}! Your previous score is: {player_records[player_name][1]}\")\n",
    "    else:\n",
    "        print(f\"Welcome, {player_name}! Let's play a trivia game!\")\n",
    "        player_records[player_name] = 0\n",
    "    for i,question in enumerate(questions):\n",
    "        print(f\"{i+1}.{question}\\n\")\n",
    "        answer=input(\"Enter your answer: \")\n",
    "        if answer.lower() == answers[i].lower():\n",
    "            print(\"Correct!\")\n",
    "            score+=points[i]\n",
    "\n",
    "    with open(\"leaders.txt\", \"a\") as f:\n",
    "        if player_name not in player_records:\n",
    "            player_records[player_name] = score\n",
    "            f.write(f\"{player_name}|{score}\\n\")\n",
    "        else:\n",
    "            if score>player_records[player_name]:\n",
    "                f.write(f\"{player_name}|{score}\\n\")\n",
    "                player_records[player_name]=score\n",
    "\n",
    "\n"
   ],
   "id": "ca689c86001c7e31",
   "outputs": [],
   "execution_count": 16
  },
  {
   "metadata": {
    "ExecuteTime": {
     "end_time": "2025-02-10T01:15:05.234688Z",
     "start_time": "2025-02-10T01:15:05.218398Z"
    }
   },
   "cell_type": "code",
   "source": [
    "\n",
    "questions= []\n",
    "answers = []\n",
    "points = []\n",
    "player_records={}\n",
    "with open(\"leaders.txt\", \"r\") as f:\n",
    "        for line in f:\n",
    "            player, score = line.strip().split(\"|\")\n",
    "            player_records[player] = int(score)\n"
   ],
   "id": "d2a33f096d60a099",
   "outputs": [
    {
     "ename": "ValueError",
     "evalue": "too many values to unpack (expected 2)",
     "output_type": "error",
     "traceback": [
      "\u001B[1;31m---------------------------------------------------------------------------\u001B[0m",
      "\u001B[1;31mValueError\u001B[0m                                Traceback (most recent call last)",
      "Cell \u001B[1;32mIn[9], line 7\u001B[0m\n\u001B[0;32m      5\u001B[0m \u001B[38;5;28;01mwith\u001B[39;00m \u001B[38;5;28mopen\u001B[39m(\u001B[38;5;124m\"\u001B[39m\u001B[38;5;124mleaders.txt\u001B[39m\u001B[38;5;124m\"\u001B[39m, \u001B[38;5;124m\"\u001B[39m\u001B[38;5;124mr\u001B[39m\u001B[38;5;124m\"\u001B[39m) \u001B[38;5;28;01mas\u001B[39;00m f:\n\u001B[0;32m      6\u001B[0m         \u001B[38;5;28;01mfor\u001B[39;00m line \u001B[38;5;129;01min\u001B[39;00m f:\n\u001B[1;32m----> 7\u001B[0m             player, score \u001B[38;5;241m=\u001B[39m line\u001B[38;5;241m.\u001B[39mstrip()\u001B[38;5;241m.\u001B[39msplit(\u001B[38;5;124m\"\u001B[39m\u001B[38;5;124m|\u001B[39m\u001B[38;5;124m\"\u001B[39m)\n\u001B[0;32m      8\u001B[0m             player_records[player] \u001B[38;5;241m=\u001B[39m \u001B[38;5;28mint\u001B[39m(score)\n",
      "\u001B[1;31mValueError\u001B[0m: too many values to unpack (expected 2)"
     ]
    }
   ],
   "execution_count": 9
  },
  {
   "metadata": {
    "ExecuteTime": {
     "end_time": "2025-02-10T01:15:37.963137Z",
     "start_time": "2025-02-10T01:15:35.506178Z"
    }
   },
   "cell_type": "code",
   "source": [
    "while True:\n",
    "    choice = menu()\n",
    "\n",
    "    if choice == 1:\n",
    "        # Load questions\n",
    "        quests = int(input(\"Enter number of questions to load: \"))\n",
    "        questions, answers, points = load_questions(\"quest_load.txt\", 0, quests)\n",
    "        show_questions(questions)\n",
    "\n",
    "    elif choice == 2:\n",
    "        # Add a question\n",
    "        Add_question(\"quest_load.txt\")\n",
    "\n",
    "    elif choice == 3:\n",
    "        # Show loaded questions\n",
    "        show_questions(questions)\n",
    "\n",
    "    elif choice == 4:\n",
    "        # Play trivia game\n",
    "        if len(questions) == 0:\n",
    "            print(\"No questions to play. Please load questions first.\")\n",
    "        else:\n",
    "            player_name = input(\"Enter player name: \")\n",
    "            trivia_game(player_name,player_records)\n",
    "\n",
    "    elif choice == 5:\n",
    "        # Show leaderboard\n",
    "        show_score(\"leaders.txt\")\n",
    "\n",
    "    elif choice == 6:\n",
    "        # Exit the program\n",
    "        print(\"Exiting...\")\n",
    "        break\n",
    "\n",
    "    else:\n",
    "        # Handle invalid choices\n",
    "        print(\"Invalid choice. Please try again.\")\n",
    "\n",
    "print(\"\\t\\tLeader Board\\n\")\n",
    "for player, score in player_records.items():\n",
    "    print(f\"{player} - {score}\")"
   ],
   "id": "aa6b6e87927f4cab",
   "outputs": [
    {
     "ename": "KeyboardInterrupt",
     "evalue": "Interrupted by user",
     "output_type": "error",
     "traceback": [
      "\u001B[1;31m---------------------------------------------------------------------------\u001B[0m",
      "\u001B[1;31mKeyboardInterrupt\u001B[0m                         Traceback (most recent call last)",
      "Cell \u001B[1;32mIn[17], line 2\u001B[0m\n\u001B[0;32m      1\u001B[0m \u001B[38;5;28;01mwhile\u001B[39;00m \u001B[38;5;28;01mTrue\u001B[39;00m:\n\u001B[1;32m----> 2\u001B[0m     choice \u001B[38;5;241m=\u001B[39m \u001B[43mmenu\u001B[49m\u001B[43m(\u001B[49m\u001B[43m)\u001B[49m\n\u001B[0;32m      4\u001B[0m     \u001B[38;5;28;01mif\u001B[39;00m choice \u001B[38;5;241m==\u001B[39m \u001B[38;5;241m1\u001B[39m:\n\u001B[0;32m      5\u001B[0m         \u001B[38;5;66;03m# Load questions\u001B[39;00m\n\u001B[0;32m      6\u001B[0m         quests \u001B[38;5;241m=\u001B[39m \u001B[38;5;28mint\u001B[39m(\u001B[38;5;28minput\u001B[39m(\u001B[38;5;124m\"\u001B[39m\u001B[38;5;124mEnter number of questions to load: \u001B[39m\u001B[38;5;124m\"\u001B[39m))\n",
      "Cell \u001B[1;32mIn[15], line 2\u001B[0m, in \u001B[0;36mmenu\u001B[1;34m()\u001B[0m\n\u001B[0;32m      1\u001B[0m \u001B[38;5;28;01mdef\u001B[39;00m\u001B[38;5;250m \u001B[39m\u001B[38;5;21mmenu\u001B[39m():\n\u001B[1;32m----> 2\u001B[0m     choice\u001B[38;5;241m=\u001B[39m\u001B[38;5;28mint\u001B[39m(\u001B[38;5;28;43minput\u001B[39;49m\u001B[43m(\u001B[49m\u001B[38;5;124;43m\"\u001B[39;49m\u001B[38;5;124;43m1.Load Questions\u001B[39;49m\u001B[38;5;130;43;01m\\n\u001B[39;49;00m\u001B[38;5;124;43m\"\u001B[39;49m\n\u001B[0;32m      3\u001B[0m \u001B[43m                     \u001B[49m\u001B[38;5;124;43m\"\u001B[39;49m\u001B[38;5;124;43m2.Add Question\u001B[39;49m\u001B[38;5;130;43;01m\\n\u001B[39;49;00m\u001B[38;5;124;43m\"\u001B[39;49m\n\u001B[0;32m      4\u001B[0m \u001B[43m                     \u001B[49m\u001B[38;5;124;43m\"\u001B[39;49m\u001B[38;5;124;43m3.Show Questions\u001B[39;49m\u001B[38;5;130;43;01m\\n\u001B[39;49;00m\u001B[38;5;124;43m\"\u001B[39;49m\n\u001B[0;32m      5\u001B[0m \u001B[43m                     \u001B[49m\u001B[38;5;124;43m\"\u001B[39;49m\u001B[38;5;124;43m4.Play Game\u001B[39;49m\u001B[38;5;130;43;01m\\n\u001B[39;49;00m\u001B[38;5;124;43m\"\u001B[39;49m\n\u001B[0;32m      6\u001B[0m \u001B[43m                     \u001B[49m\u001B[38;5;124;43m\"\u001B[39;49m\u001B[38;5;124;43m5.Show Scoreboard\u001B[39;49m\u001B[38;5;130;43;01m\\n\u001B[39;49;00m\u001B[38;5;124;43m\"\u001B[39;49m\n\u001B[0;32m      7\u001B[0m \u001B[43m                     \u001B[49m\u001B[38;5;124;43m\"\u001B[39;49m\u001B[38;5;124;43m6.Exit\u001B[39;49m\u001B[38;5;130;43;01m\\n\u001B[39;49;00m\u001B[38;5;124;43m\"\u001B[39;49m\n\u001B[0;32m      8\u001B[0m \u001B[43m                      \u001B[49m\u001B[43m)\u001B[49m)\n\u001B[0;32m      9\u001B[0m     \u001B[38;5;28;01mreturn\u001B[39;00m choice\n",
      "File \u001B[1;32mD:\\ai assignments\\.venv\\Lib\\site-packages\\ipykernel\\kernelbase.py:1282\u001B[0m, in \u001B[0;36mKernel.raw_input\u001B[1;34m(self, prompt)\u001B[0m\n\u001B[0;32m   1280\u001B[0m     msg \u001B[38;5;241m=\u001B[39m \u001B[38;5;124m\"\u001B[39m\u001B[38;5;124mraw_input was called, but this frontend does not support input requests.\u001B[39m\u001B[38;5;124m\"\u001B[39m\n\u001B[0;32m   1281\u001B[0m     \u001B[38;5;28;01mraise\u001B[39;00m StdinNotImplementedError(msg)\n\u001B[1;32m-> 1282\u001B[0m \u001B[38;5;28;01mreturn\u001B[39;00m \u001B[38;5;28;43mself\u001B[39;49m\u001B[38;5;241;43m.\u001B[39;49m\u001B[43m_input_request\u001B[49m\u001B[43m(\u001B[49m\n\u001B[0;32m   1283\u001B[0m \u001B[43m    \u001B[49m\u001B[38;5;28;43mstr\u001B[39;49m\u001B[43m(\u001B[49m\u001B[43mprompt\u001B[49m\u001B[43m)\u001B[49m\u001B[43m,\u001B[49m\n\u001B[0;32m   1284\u001B[0m \u001B[43m    \u001B[49m\u001B[38;5;28;43mself\u001B[39;49m\u001B[38;5;241;43m.\u001B[39;49m\u001B[43m_parent_ident\u001B[49m\u001B[43m[\u001B[49m\u001B[38;5;124;43m\"\u001B[39;49m\u001B[38;5;124;43mshell\u001B[39;49m\u001B[38;5;124;43m\"\u001B[39;49m\u001B[43m]\u001B[49m\u001B[43m,\u001B[49m\n\u001B[0;32m   1285\u001B[0m \u001B[43m    \u001B[49m\u001B[38;5;28;43mself\u001B[39;49m\u001B[38;5;241;43m.\u001B[39;49m\u001B[43mget_parent\u001B[49m\u001B[43m(\u001B[49m\u001B[38;5;124;43m\"\u001B[39;49m\u001B[38;5;124;43mshell\u001B[39;49m\u001B[38;5;124;43m\"\u001B[39;49m\u001B[43m)\u001B[49m\u001B[43m,\u001B[49m\n\u001B[0;32m   1286\u001B[0m \u001B[43m    \u001B[49m\u001B[43mpassword\u001B[49m\u001B[38;5;241;43m=\u001B[39;49m\u001B[38;5;28;43;01mFalse\u001B[39;49;00m\u001B[43m,\u001B[49m\n\u001B[0;32m   1287\u001B[0m \u001B[43m\u001B[49m\u001B[43m)\u001B[49m\n",
      "File \u001B[1;32mD:\\ai assignments\\.venv\\Lib\\site-packages\\ipykernel\\kernelbase.py:1325\u001B[0m, in \u001B[0;36mKernel._input_request\u001B[1;34m(self, prompt, ident, parent, password)\u001B[0m\n\u001B[0;32m   1322\u001B[0m \u001B[38;5;28;01mexcept\u001B[39;00m \u001B[38;5;167;01mKeyboardInterrupt\u001B[39;00m:\n\u001B[0;32m   1323\u001B[0m     \u001B[38;5;66;03m# re-raise KeyboardInterrupt, to truncate traceback\u001B[39;00m\n\u001B[0;32m   1324\u001B[0m     msg \u001B[38;5;241m=\u001B[39m \u001B[38;5;124m\"\u001B[39m\u001B[38;5;124mInterrupted by user\u001B[39m\u001B[38;5;124m\"\u001B[39m\n\u001B[1;32m-> 1325\u001B[0m     \u001B[38;5;28;01mraise\u001B[39;00m \u001B[38;5;167;01mKeyboardInterrupt\u001B[39;00m(msg) \u001B[38;5;28;01mfrom\u001B[39;00m\u001B[38;5;250m \u001B[39m\u001B[38;5;28;01mNone\u001B[39;00m\n\u001B[0;32m   1326\u001B[0m \u001B[38;5;28;01mexcept\u001B[39;00m \u001B[38;5;167;01mException\u001B[39;00m:\n\u001B[0;32m   1327\u001B[0m     \u001B[38;5;28mself\u001B[39m\u001B[38;5;241m.\u001B[39mlog\u001B[38;5;241m.\u001B[39mwarning(\u001B[38;5;124m\"\u001B[39m\u001B[38;5;124mInvalid Message:\u001B[39m\u001B[38;5;124m\"\u001B[39m, exc_info\u001B[38;5;241m=\u001B[39m\u001B[38;5;28;01mTrue\u001B[39;00m)\n",
      "\u001B[1;31mKeyboardInterrupt\u001B[0m: Interrupted by user"
     ]
    }
   ],
   "execution_count": 17
  },
  {
   "metadata": {},
   "cell_type": "code",
   "outputs": [],
   "execution_count": null,
   "source": "",
   "id": "a1a093ba982ec741"
  }
 ],
 "metadata": {
  "kernelspec": {
   "display_name": "Python 3",
   "language": "python",
   "name": "python3"
  },
  "language_info": {
   "codemirror_mode": {
    "name": "ipython",
    "version": 2
   },
   "file_extension": ".py",
   "mimetype": "text/x-python",
   "name": "python",
   "nbconvert_exporter": "python",
   "pygments_lexer": "ipython2",
   "version": "2.7.6"
  }
 },
 "nbformat": 4,
 "nbformat_minor": 5
}
